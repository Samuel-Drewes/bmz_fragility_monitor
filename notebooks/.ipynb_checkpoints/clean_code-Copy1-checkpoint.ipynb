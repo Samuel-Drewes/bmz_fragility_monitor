{
 "cells": [
  {
   "cell_type": "markdown",
   "id": "9244397b",
   "metadata": {},
   "source": [
    "## Imports"
   ]
  },
  {
   "cell_type": "code",
   "execution_count": 1,
   "id": "40b50b09",
   "metadata": {},
   "outputs": [],
   "source": [
    "# General\n",
    "\n",
    "from functools import reduce\n",
    "\n",
    "# Data Analysis\n",
    "\n",
    "import pandas as pd\n",
    "import numpy as np\n",
    "\n",
    "# Visualization\n",
    "\n",
    "import matplotlib.pyplot as plt\n",
    "import geopandas as gpd\n",
    "\n",
    "\n",
    "# WBAPI\n",
    "\n",
    "import wbgapi as wb\n",
    "\n",
    "# Data Processing\n",
    "\n",
    "from sklearn.preprocessing import MinMaxScaler\n"
   ]
  },
  {
   "cell_type": "markdown",
   "id": "a7ef44f9",
   "metadata": {},
   "source": [
    "# Data Collection"
   ]
  },
  {
   "cell_type": "markdown",
   "id": "7f72d311",
   "metadata": {},
   "source": [
    "## Manual Data Upload"
   ]
  },
  {
   "cell_type": "markdown",
   "id": "b0628718",
   "metadata": {},
   "source": [
    "### V-Dem"
   ]
  },
  {
   "cell_type": "code",
   "execution_count": 2,
   "id": "955b3694",
   "metadata": {},
   "outputs": [
    {
     "name": "stderr",
     "output_type": "stream",
     "text": [
      "/var/folders/hk/rdjdftyd0877r286qh4d189c0000gn/T/ipykernel_28695/4229261574.py:1: DtypeWarning: Columns (364,365,366,394,410,821,831,832,930,1235,1252,1481,3063,3282,3283,3351,3353,3357,3358,3360,3361,3362) have mixed types. Specify dtype option on import or set low_memory=False.\n",
      "  vdem_df = pd.read_csv(\"../data/vdem/V-Dem-CY-Full+Others-v13.csv\")\n"
     ]
    }
   ],
   "source": [
    "vdem_df = pd.read_csv(\"../data/vdem/V-Dem-CY-Full+Others-v13.csv\")"
   ]
  },
  {
   "cell_type": "markdown",
   "id": "9deacfb1",
   "metadata": {},
   "source": [
    "## Funtions"
   ]
  },
  {
   "cell_type": "markdown",
   "id": "454424b0",
   "metadata": {},
   "source": [
    "### WB Indicator DF"
   ]
  },
  {
   "cell_type": "code",
   "execution_count": 3,
   "id": "f545c783",
   "metadata": {},
   "outputs": [],
   "source": [
    "# def indicator_to_df(query, specify = False):\n",
    "#     if specify:\n",
    "#         return pd.DataFrame(wb.series.Series(q= query)).reset_index().iloc[specify]\n",
    "#     return pd.DataFrame(wb.series.Series(q= query)).reset_index()\n",
    "\n",
    "# def merge_indicator_df(ind_df_list):\n",
    "#     return pd.concat(ind_df_list).reset_index(drop=True)\n",
    "\n",
    "# def get_data_from_merged_index_df(all_dim_indicators):\n",
    "    \n",
    "#     wb.db = 2\n",
    "#     df2 = wb.data.DataFrame(list(all_dim_indicators['index']), wb.region.members('AFR'), mrv=1)\n",
    "#     wb.db = 3\n",
    "#     df3 = wb.data.DataFrame(list(all_dim_indicators['index']), wb.region.members('AFR'), mrv=1)\n",
    "\n",
    "#     country_index = df2.index\n",
    "    \n",
    "#     merged_df = df2.merge(df3)\n",
    "    \n",
    "#     merged_df.index = country_index\n",
    "    \n",
    "#     return merged_df"
   ]
  },
  {
   "cell_type": "code",
   "execution_count": 4,
   "id": "7db9922f",
   "metadata": {},
   "outputs": [],
   "source": [
    "def wb_data_completer(indicator, coverage_threshold = 0.85, years_to_check = 10, database = None, specify = False):\n",
    "    \n",
    "    def indicator_to_df(query, specify = False):\n",
    "        \n",
    "        # Function to get indicator code\n",
    "        \n",
    "        if specify:\n",
    "            return pd.DataFrame(wb.series.Series(q= query)).reset_index().iloc[specify]\n",
    "        return pd.DataFrame(wb.series.Series(q= query)).reset_index()\n",
    "    \n",
    "    def fetch_data_and_calculate_completeness(database_number):\n",
    "        \n",
    "        # Checks coverage of data\n",
    "        \n",
    "        wb.db = database_number\n",
    "        db_ind = indicator_to_df(indicator)\n",
    "        \n",
    "        if len(db_ind) == 0:  # If no data is found for this database\n",
    "            return 0  # Completeness is 0%\n",
    "        return float(wb.data.DataFrame(db_ind['index'], mrv=1).notna().mean())\n",
    "    \n",
    "    # Check which database to use if not specified\n",
    "    \n",
    "    if database is None:\n",
    "        \n",
    "        db2_complete = fetch_data_and_calculate_completeness(2)\n",
    "        db3_complete = fetch_data_and_calculate_completeness(3)\n",
    "        \n",
    "        database = 2 if db2_complete >= db3_complete or db3_complete == 0 else 3\n",
    "    \n",
    "    # Check coverage of most recent year\n",
    "    \n",
    "    wb.db = database\n",
    "    coverage_complete = fetch_data_and_calculate_completeness(database)\n",
    "    final_ind = indicator_to_df(indicator)\n",
    "        \n",
    "    # Return mrv = 1 if already passing data threshold\n",
    "    \n",
    "    if coverage_complete > coverage_threshold:\n",
    "        print(f\"\"\"Data for '{indicator}' found in WB Database {database}. Returning data for the most recent year. \n",
    "        Coverage = {round(coverage_complete, 4)*100}%, greater than selected threshold of {round(coverage_threshold, 4)*100}%.\"\"\")\n",
    "        final_ind = wb.data.DataFrame(final_ind['index'], mrv=1)\n",
    "        final_ind.columns = ['Final Value']\n",
    "        \n",
    "        return final_ind\n",
    "    \n",
    "    # Otherwise go back number of years specified\n",
    "    \n",
    "    else:\n",
    "        \n",
    "        print(f\"\"\"Data for '{indicator}' does not meet the coverage threshold of {coverage_threshold*100}% in WB Database {database}.\n",
    "        Extracting data from previous years.\"\"\")\n",
    "        \n",
    "        # Get Data\n",
    "        \n",
    "        \n",
    "        multiyear_df = wb.data.DataFrame(final_ind['index'], mrv=years_to_check)\n",
    "        \n",
    "        # Loop through DF in reverse order\n",
    "        \n",
    "        current_year = int(multiyear_df.columns[-1][2:])\n",
    "        all_years = list(range(current_year, current_year - years_to_check, -1)) \n",
    "        \n",
    "        for i, year in enumerate(all_years):\n",
    "            year_column = f'YR{year}'\n",
    "            \n",
    "            # Skip years that don't have a corresponding column in the DataFrame\n",
    "            \n",
    "            if year_column not in multiyear_df.columns:\n",
    "                continue \n",
    "                \n",
    "            # For the first year, initialize 'Final_Value' with its values\n",
    "            \n",
    "            if i == 0:\n",
    "                multiyear_df['Final_Value'] = multiyear_df[year_column]\n",
    "                \n",
    "            # Fill missing values in 'Final_Value' with the current year's data\n",
    " \n",
    "            else:\n",
    "                multiyear_df['Final_Value'] = multiyear_df['Final_Value'].fillna(multiyear_df[year_column])\n",
    "            \n",
    "            # Check data completeness for 'Final_Value' after potential filling\n",
    "            \n",
    "            data_coverage = multiyear_df['Final_Value'].notna().mean()\n",
    "            if data_coverage >= coverage_threshold:\n",
    "                print(f\"\"\"Achieved {round(data_coverage,4)*100}% data coverage by going back to data from {year},\n",
    "                exceeding minimum threshold of {coverage_threshold*100}%. Returning this dataframe.\"\"\")\n",
    "                break\n",
    "                \n",
    "        # Return Final DF\n",
    "                \n",
    "        if data_coverage < coverage_threshold:\n",
    "            \n",
    "            print(f\"\"\"Data coverage at {round(data_coverage,4)*100}% after going back {years_to_check} years.\n",
    "            Failed to exceed minimum threshold of {coverage_threshold*100}%. Returning best dataframe anyway\"\"\")\n",
    "            \n",
    "            \n",
    "        return multiyear_df[['Final_Value']]\n"
   ]
  },
  {
   "cell_type": "markdown",
   "id": "762f269c",
   "metadata": {},
   "source": [
    "## dim_G"
   ]
  },
  {
   "cell_type": "markdown",
   "id": "d3bf8459",
   "metadata": {},
   "source": [
    "###  Each Indicator"
   ]
  },
  {
   "cell_type": "markdown",
   "id": "263d5347",
   "metadata": {},
   "source": [
    "#### g7"
   ]
  },
  {
   "cell_type": "code",
   "execution_count": 10,
   "id": "1435fcc5",
   "metadata": {},
   "outputs": [
    {
     "data": {
      "text/html": [
       "<div>\n",
       "<style scoped>\n",
       "    .dataframe tbody tr th:only-of-type {\n",
       "        vertical-align: middle;\n",
       "    }\n",
       "\n",
       "    .dataframe tbody tr th {\n",
       "        vertical-align: top;\n",
       "    }\n",
       "\n",
       "    .dataframe thead th {\n",
       "        text-align: right;\n",
       "    }\n",
       "</style>\n",
       "<table border=\"1\" class=\"dataframe\">\n",
       "  <thead>\n",
       "    <tr style=\"text-align: right;\">\n",
       "      <th></th>\n",
       "      <th>ind_g7</th>\n",
       "    </tr>\n",
       "    <tr>\n",
       "      <th>Code</th>\n",
       "      <th></th>\n",
       "    </tr>\n",
       "  </thead>\n",
       "  <tbody>\n",
       "    <tr>\n",
       "      <th>AFG</th>\n",
       "      <td>0.102</td>\n",
       "    </tr>\n",
       "    <tr>\n",
       "      <th>ALB</th>\n",
       "      <td>0.657</td>\n",
       "    </tr>\n",
       "    <tr>\n",
       "      <th>DZA</th>\n",
       "      <td>0.486</td>\n",
       "    </tr>\n",
       "    <tr>\n",
       "      <th>AGO</th>\n",
       "      <td>0.591</td>\n",
       "    </tr>\n",
       "    <tr>\n",
       "      <th>ARG</th>\n",
       "      <td>0.907</td>\n",
       "    </tr>\n",
       "  </tbody>\n",
       "</table>\n",
       "</div>"
      ],
      "text/plain": [
       "      ind_g7\n",
       "Code        \n",
       "AFG    0.102\n",
       "ALB    0.657\n",
       "DZA    0.486\n",
       "AGO    0.591\n",
       "ARG    0.907"
      ]
     },
     "execution_count": 10,
     "metadata": {},
     "output_type": "execute_result"
    }
   ],
   "source": [
    "ind_g7 = pd.read_csv('../data/owid/freedom-of-expression-index.csv')\n",
    "ind_g7 = ind_g7[ind_g7['Year'] == 2022].set_index('Code')[['freeexpr_vdem_owid']]\n",
    "ind_g7.columns = ['ind_g7']\n",
    "ind_g7.head()"
   ]
  },
  {
   "cell_type": "markdown",
   "id": "063c1810",
   "metadata": {},
   "source": [
    "#### g6"
   ]
  },
  {
   "cell_type": "code",
   "execution_count": 11,
   "id": "987b1d2f",
   "metadata": {},
   "outputs": [
    {
     "name": "stderr",
     "output_type": "stream",
     "text": [
      "/Users/samueldrewes/.pyenv/versions/3.10.6/envs/lewagon/lib/python3.10/site-packages/wbgapi/__init__.py:620: FutureWarning: The default dtype for empty Series will be 'object' instead of 'float64' in a future version. Specify a dtype explicitly to silence this warning.\n",
      "  return pd.Series({row[key]: row[value] for row in data}, name=name)\n"
     ]
    },
    {
     "name": "stdout",
     "output_type": "stream",
     "text": [
      "Data for 'Proportion of seats held by women' found in WB Database 2. Returning data for the most recent year. \n",
      "        Coverage = 88.35%, greater than selected threshold of 85.0%.\n"
     ]
    },
    {
     "data": {
      "text/html": [
       "<div>\n",
       "<style scoped>\n",
       "    .dataframe tbody tr th:only-of-type {\n",
       "        vertical-align: middle;\n",
       "    }\n",
       "\n",
       "    .dataframe tbody tr th {\n",
       "        vertical-align: top;\n",
       "    }\n",
       "\n",
       "    .dataframe thead th {\n",
       "        text-align: right;\n",
       "    }\n",
       "</style>\n",
       "<table border=\"1\" class=\"dataframe\">\n",
       "  <thead>\n",
       "    <tr style=\"text-align: right;\">\n",
       "      <th></th>\n",
       "      <th>ind_g6</th>\n",
       "    </tr>\n",
       "    <tr>\n",
       "      <th>economy</th>\n",
       "      <th></th>\n",
       "    </tr>\n",
       "  </thead>\n",
       "  <tbody>\n",
       "    <tr>\n",
       "      <th>ABW</th>\n",
       "      <td>NaN</td>\n",
       "    </tr>\n",
       "    <tr>\n",
       "      <th>AFE</th>\n",
       "      <td>30.523627</td>\n",
       "    </tr>\n",
       "    <tr>\n",
       "      <th>AFG</th>\n",
       "      <td>NaN</td>\n",
       "    </tr>\n",
       "    <tr>\n",
       "      <th>AFW</th>\n",
       "      <td>19.182782</td>\n",
       "    </tr>\n",
       "    <tr>\n",
       "      <th>AGO</th>\n",
       "      <td>33.636364</td>\n",
       "    </tr>\n",
       "  </tbody>\n",
       "</table>\n",
       "</div>"
      ],
      "text/plain": [
       "            ind_g6\n",
       "economy           \n",
       "ABW            NaN\n",
       "AFE      30.523627\n",
       "AFG            NaN\n",
       "AFW      19.182782\n",
       "AGO      33.636364"
      ]
     },
     "execution_count": 11,
     "metadata": {},
     "output_type": "execute_result"
    }
   ],
   "source": [
    "ind_g6 = wb_data_completer('Proportion of seats held by women')\n",
    "ind_g6.columns = ['ind_g6']\n",
    "ind_g6.head()"
   ]
  },
  {
   "cell_type": "code",
   "execution_count": 8,
   "id": "5914c3a4",
   "metadata": {},
   "outputs": [
    {
     "ename": "NameError",
     "evalue": "name 'indicator_to_df' is not defined",
     "output_type": "error",
     "traceback": [
      "\u001b[0;31m---------------------------------------------------------------------------\u001b[0m",
      "\u001b[0;31mNameError\u001b[0m                                 Traceback (most recent call last)",
      "Cell \u001b[0;32mIn [8], line 3\u001b[0m\n\u001b[1;32m      1\u001b[0m wb\u001b[38;5;241m.\u001b[39mdb \u001b[38;5;241m=\u001b[39m \u001b[38;5;241m2\u001b[39m\n\u001b[0;32m----> 3\u001b[0m ind_g6 \u001b[38;5;241m=\u001b[39m indicator_to_df(\u001b[38;5;124m'\u001b[39m\u001b[38;5;124mProportion of seats held by women\u001b[39m\u001b[38;5;124m'\u001b[39m)\n\u001b[1;32m      4\u001b[0m ind_g6 \u001b[38;5;241m=\u001b[39m wb\u001b[38;5;241m.\u001b[39mdata\u001b[38;5;241m.\u001b[39mDataFrame(ind_g6[\u001b[38;5;124m'\u001b[39m\u001b[38;5;124mindex\u001b[39m\u001b[38;5;124m'\u001b[39m], mrv\u001b[38;5;241m=\u001b[39m\u001b[38;5;241m1\u001b[39m)\n\u001b[1;32m      7\u001b[0m ind_g6\u001b[38;5;241m.\u001b[39mhead()\n",
      "\u001b[0;31mNameError\u001b[0m: name 'indicator_to_df' is not defined"
     ]
    }
   ],
   "source": [
    "wb.db = 2\n",
    "\n",
    "ind_g6 = indicator_to_df('Proportion of seats held by women')\n",
    "ind_g6 = wb.data.DataFrame(ind_g6['index'], mrv=1)\n",
    "\n",
    "\n",
    "ind_g6.head()"
   ]
  },
  {
   "cell_type": "markdown",
   "id": "bdd9d215",
   "metadata": {},
   "source": [
    "#### g5"
   ]
  },
  {
   "cell_type": "code",
   "execution_count": null,
   "id": "ee76b23c",
   "metadata": {},
   "outputs": [],
   "source": [
    "wb.db = 2\n",
    "ind_g5 = indicator_to_df('Tax revenue', specify= slice(1,2))\n",
    "ind_g5 = wb.data.DataFrame(ind_g5['index'], mrv=5)\n",
    "ind_g5['Final_Value'] = ind_g5['YR2022'].fillna(ind_g5['YR2021']).fillna(ind_g5['YR2020']).fillna(ind_g5['YR2019']).fillna(ind_g5['YR2018'])\n",
    "ind_g5 = ind_g5[['Final_Value']]\n",
    "ind_g5.sample(5)"
   ]
  },
  {
   "cell_type": "code",
   "execution_count": null,
   "id": "73b0cc0a",
   "metadata": {},
   "outputs": [],
   "source": [
    "# ind_g5 = pd.read_csv('../data/owid/tax-revenues-as-a-share-of-gdp-unu-wider.csv')\n",
    "\n",
    "# ind_g5 = ind_g5[ind_g5['Year'] == 2022].set_index('Code')[['Taxes including social contributions (as a share of GDP)']]\n",
    "# ind_g5.head(50)"
   ]
  },
  {
   "cell_type": "markdown",
   "id": "3e75e50d",
   "metadata": {},
   "source": [
    "#### g4"
   ]
  },
  {
   "cell_type": "code",
   "execution_count": null,
   "id": "490c5f05",
   "metadata": {},
   "outputs": [],
   "source": [
    "wb.db = 3\n",
    "\n",
    "ind_g4 = indicator_to_df('rule of law: estimate')\n",
    "\n",
    "ind_g4 = wb.data.DataFrame(ind_g4['index'], mrv=1)\n",
    "\n",
    "ind_g4.head()"
   ]
  },
  {
   "cell_type": "markdown",
   "id": "c031a480",
   "metadata": {},
   "source": [
    "#### g3"
   ]
  },
  {
   "cell_type": "code",
   "execution_count": null,
   "id": "96a21086",
   "metadata": {},
   "outputs": [],
   "source": [
    "wb.db = 3\n",
    "ind_g3 = indicator_to_df('control of corruption: estimate')\n",
    "ind_g3 = wb.data.DataFrame(ind_g3['index'], mrv=1)\n",
    "ind_g3.head()"
   ]
  },
  {
   "cell_type": "markdown",
   "id": "00356920",
   "metadata": {},
   "source": [
    "#### g2"
   ]
  },
  {
   "cell_type": "code",
   "execution_count": null,
   "id": "b9832507",
   "metadata": {},
   "outputs": [],
   "source": [
    "ind_g2 = pd.read_csv('../data/owid/rigorous-and-impartial-public-administration-index.csv')\n",
    "ind_g2 = ind_g2[ind_g2['Year'] == 2022].set_index('Code')[['public_admin_vdem_owid']]\n",
    "ind_g2.head()"
   ]
  },
  {
   "cell_type": "markdown",
   "id": "ed10136a",
   "metadata": {},
   "source": [
    "#### g1"
   ]
  },
  {
   "cell_type": "code",
   "execution_count": null,
   "id": "1906a5d8",
   "metadata": {},
   "outputs": [],
   "source": [
    "ind_g1 = vdem_df[vdem_df['year'] == 2022][['country_text_id', 'v2regsupgroupssize']].set_index('country_text_id')\n",
    "\n",
    "ind_g1.head()"
   ]
  },
  {
   "cell_type": "markdown",
   "id": "d997ce32",
   "metadata": {},
   "source": [
    "### Merging Indicators"
   ]
  },
  {
   "cell_type": "code",
   "execution_count": null,
   "id": "2d21a89d",
   "metadata": {},
   "outputs": [],
   "source": [
    "dim_g_list = [ind_g3,ind_g2,ind_g1,ind_g4,ind_g5, ind_g6, ind_g7]\n",
    "dim_g_list_names = ['ind_g3','ind_g2','ind_g1','ind_g4','ind_g5', 'ind_g6', 'ind_g7']"
   ]
  },
  {
   "cell_type": "code",
   "execution_count": null,
   "id": "dac4407f",
   "metadata": {},
   "outputs": [],
   "source": [
    "dim_g_merged = reduce(lambda left, right: pd.merge(left, right, left_index=True, right_index=True, how='left'), dim_g_list)\n",
    "dim_g_merged.columns = dim_g_list_names\n",
    "dim_g_merged = dim_g_merged[['ind_g1','ind_g2','ind_g3','ind_g4','ind_g5', 'ind_g6', 'ind_g7']]"
   ]
  },
  {
   "cell_type": "code",
   "execution_count": null,
   "id": "ac2b2ecd",
   "metadata": {},
   "outputs": [],
   "source": [
    "1- dim_g_merged.isna().sum()/len(dim_g_merged)"
   ]
  },
  {
   "cell_type": "code",
   "execution_count": null,
   "id": "c4a6d657",
   "metadata": {},
   "outputs": [],
   "source": [
    "dim_g_merged.sample(10)"
   ]
  },
  {
   "cell_type": "markdown",
   "id": "d46d22d4",
   "metadata": {},
   "source": [
    "# Maps"
   ]
  },
  {
   "cell_type": "code",
   "execution_count": null,
   "id": "3777e762",
   "metadata": {},
   "outputs": [],
   "source": [
    "world = gpd.read_file(gpd.datasets.get_path('naturalearth_lowres'))\n",
    "africa = world.query('continent == \"Africa\"')[['iso_a3', 'geometry']]\n"
   ]
  },
  {
   "cell_type": "code",
   "execution_count": null,
   "id": "c57c9442",
   "metadata": {},
   "outputs": [],
   "source": [
    "merge_africa = africa.merge(africa_indicators, left_on = 'iso_a3', right_index = True)"
   ]
  },
  {
   "cell_type": "code",
   "execution_count": null,
   "id": "23bbdaf3",
   "metadata": {},
   "outputs": [],
   "source": [
    "fig, axes = plt.subplots(1, 3, figsize=(15, 5))  # 1 row, 3 columns, adjust figsize as needed\n",
    "\n",
    "# Plot the first column on the first axis\n",
    "merge_africa.plot(column='SG.GEN.PARL.ZS', cmap='RdYlGn', missing_kwds={'color': 'black'}, ax=axes[0])\n",
    "axes[0].set_title('SG.GEN.PARL.ZS')\n",
    "\n",
    "# Plot the second column on the second axis\n",
    "merge_africa.plot(column='CC.EST', cmap='RdYlGn', missing_kwds={'color': 'black'}, ax=axes[1])\n",
    "axes[1].set_title('CC.EST')\n",
    "\n",
    "# Plot the third column on the third axis\n",
    "merge_africa.plot(column='RL.EST', cmap='RdYlGn', missing_kwds={'color': 'black'}, ax=axes[2])\n",
    "axes[2].set_title('RL.EST')\n",
    "\n",
    "# Adjust layout\n",
    "plt.tight_layout()\n",
    "\n",
    "plt.show()"
   ]
  },
  {
   "cell_type": "code",
   "execution_count": null,
   "id": "abf58f1b",
   "metadata": {},
   "outputs": [],
   "source": []
  },
  {
   "cell_type": "code",
   "execution_count": null,
   "id": "c47f67f1",
   "metadata": {},
   "outputs": [],
   "source": []
  },
  {
   "cell_type": "code",
   "execution_count": null,
   "id": "d28e14bf",
   "metadata": {},
   "outputs": [],
   "source": []
  },
  {
   "cell_type": "code",
   "execution_count": null,
   "id": "0aa3e9e5",
   "metadata": {},
   "outputs": [],
   "source": []
  },
  {
   "cell_type": "code",
   "execution_count": null,
   "id": "f1ce0ad7",
   "metadata": {},
   "outputs": [],
   "source": []
  },
  {
   "cell_type": "code",
   "execution_count": null,
   "id": "b7718f1a",
   "metadata": {},
   "outputs": [],
   "source": []
  },
  {
   "cell_type": "markdown",
   "id": "67797b35",
   "metadata": {},
   "source": [
    "# Data Processing"
   ]
  },
  {
   "cell_type": "code",
   "execution_count": null,
   "id": "4a84860c",
   "metadata": {},
   "outputs": [],
   "source": [
    "dim_g_merged.index"
   ]
  },
  {
   "cell_type": "code",
   "execution_count": null,
   "id": "8ae80e3e",
   "metadata": {},
   "outputs": [],
   "source": [
    "scaler = MinMaxScaler()\n",
    "scaled_df = scaler.fit_transform(dim_g_merged)"
   ]
  },
  {
   "cell_type": "code",
   "execution_count": null,
   "id": "2e56e296",
   "metadata": {},
   "outputs": [],
   "source": [
    "scaled_df = pd.DataFrame(scaled_df, columns=scaler.get_feature_names_out())"
   ]
  },
  {
   "cell_type": "code",
   "execution_count": null,
   "id": "aa7438b7",
   "metadata": {},
   "outputs": [],
   "source": [
    "scaled_df.index = dim_g_merged.index"
   ]
  },
  {
   "cell_type": "code",
   "execution_count": null,
   "id": "99b61289",
   "metadata": {
    "scrolled": true
   },
   "outputs": [],
   "source": [
    "scaled_df.sample(3)"
   ]
  },
  {
   "cell_type": "code",
   "execution_count": null,
   "id": "9c8418e5",
   "metadata": {},
   "outputs": [],
   "source": [
    "keys = scaled_df.columns\n",
    "\n",
    "values = [3,2,2,2,2,1,1]\n",
    "\n",
    "weights = dict(zip(keys, values))\n",
    "\n",
    "weights"
   ]
  },
  {
   "cell_type": "code",
   "execution_count": null,
   "id": "f86e5434",
   "metadata": {},
   "outputs": [],
   "source": [
    "for column, weight in weights.items():\n",
    "    weighted_df[column] = scaled_df[column] * weight"
   ]
  },
  {
   "cell_type": "code",
   "execution_count": null,
   "id": "06d91a1e",
   "metadata": {},
   "outputs": [],
   "source": [
    "weighted_df['weighted_mean'] = weighted_df.mean(axis=1)\n"
   ]
  },
  {
   "cell_type": "code",
   "execution_count": null,
   "id": "5331732e",
   "metadata": {},
   "outputs": [],
   "source": [
    "weighted_df['weighted_mean'] = weighted_df.apply(lambda row: np.nan if row[keys].isnull().sum() > 2 else row['weighted_mean'], axis=1)\n",
    "\n",
    "\n"
   ]
  },
  {
   "cell_type": "code",
   "execution_count": null,
   "id": "35b4d90d",
   "metadata": {},
   "outputs": [],
   "source": [
    "weighted_df = weighted_df.sort_values('weighted_mean', ascending=False)"
   ]
  },
  {
   "cell_type": "code",
   "execution_count": null,
   "id": "38c1accb",
   "metadata": {},
   "outputs": [],
   "source": [
    "weighted_df"
   ]
  },
  {
   "cell_type": "code",
   "execution_count": null,
   "id": "997249d8",
   "metadata": {},
   "outputs": [],
   "source": []
  },
  {
   "cell_type": "code",
   "execution_count": null,
   "id": "5de5dbc6",
   "metadata": {},
   "outputs": [],
   "source": []
  },
  {
   "cell_type": "code",
   "execution_count": null,
   "id": "16d5452d",
   "metadata": {},
   "outputs": [],
   "source": []
  },
  {
   "cell_type": "code",
   "execution_count": null,
   "id": "80f92e1a",
   "metadata": {},
   "outputs": [],
   "source": []
  },
  {
   "cell_type": "code",
   "execution_count": null,
   "id": "b7e7d3bf",
   "metadata": {},
   "outputs": [],
   "source": []
  },
  {
   "cell_type": "code",
   "execution_count": null,
   "id": "5c0dc8b2",
   "metadata": {},
   "outputs": [],
   "source": []
  },
  {
   "cell_type": "code",
   "execution_count": null,
   "id": "16fc217b",
   "metadata": {},
   "outputs": [],
   "source": []
  },
  {
   "cell_type": "markdown",
   "id": "1aef3b2c",
   "metadata": {},
   "source": [
    "Goal: A complete Data Pipeline that (for all the listed countries (though probably just use all countries so the scaling works))\n",
    "\n",
    "1. Loads all the data\n",
    "2. Does the data processing, weighted averaging / PCAs\n",
    "3. Table loading functions:\n",
    "    a. Scores for each country on indicators of 1 dimension\n",
    "    b. Scores for each country on all dimensions and overall\n",
    "4. Map loading functions:\n",
    "    a. For each indicator\n",
    "    b. For each Dimension\n",
    "    c. Overall\n",
    "5. Does some predicting into the future in some simple form"
   ]
  },
  {
   "cell_type": "markdown",
   "id": "12bd60fa",
   "metadata": {},
   "source": [
    "# Maps"
   ]
  },
  {
   "cell_type": "code",
   "execution_count": null,
   "id": "2ddb0043",
   "metadata": {},
   "outputs": [],
   "source": [
    "world = gpd.read_file(gpd.datasets.get_path('naturalearth_lowres'))\n"
   ]
  },
  {
   "cell_type": "code",
   "execution_count": null,
   "id": "94263844",
   "metadata": {},
   "outputs": [],
   "source": [
    "merge_governance = world.merge(weighted_df, left_on = 'iso_a3', right_index = True)"
   ]
  },
  {
   "cell_type": "code",
   "execution_count": null,
   "id": "14e60be1",
   "metadata": {},
   "outputs": [],
   "source": [
    "merge_governance.plot(column='weighted_mean', cmap='RdYlGn', missing_kwds={'color': 'black'}, figsize=(10, 8))\n",
    "plt.title('Governance Score')"
   ]
  },
  {
   "cell_type": "code",
   "execution_count": null,
   "id": "5dec6875",
   "metadata": {},
   "outputs": [],
   "source": []
  },
  {
   "cell_type": "markdown",
   "id": "dda5b425",
   "metadata": {},
   "source": [
    "# Dimension Scoring"
   ]
  },
  {
   "cell_type": "markdown",
   "id": "59bef356",
   "metadata": {},
   "source": [
    "# Validity Testing (comparing to OECD results)"
   ]
  },
  {
   "cell_type": "markdown",
   "id": "ea4642ba",
   "metadata": {},
   "source": [
    "# Prediction"
   ]
  }
 ],
 "metadata": {
  "kernelspec": {
   "display_name": "Python 3 (ipykernel)",
   "language": "python",
   "name": "python3"
  },
  "language_info": {
   "codemirror_mode": {
    "name": "ipython",
    "version": 3
   },
   "file_extension": ".py",
   "mimetype": "text/x-python",
   "name": "python",
   "nbconvert_exporter": "python",
   "pygments_lexer": "ipython3",
   "version": "3.10.6"
  },
  "toc": {
   "base_numbering": 1,
   "nav_menu": {},
   "number_sections": true,
   "sideBar": true,
   "skip_h1_title": false,
   "title_cell": "Table of Contents",
   "title_sidebar": "Contents",
   "toc_cell": false,
   "toc_position": {},
   "toc_section_display": true,
   "toc_window_display": false
  },
  "varInspector": {
   "cols": {
    "lenName": 16,
    "lenType": 16,
    "lenVar": 40
   },
   "kernels_config": {
    "python": {
     "delete_cmd_postfix": "",
     "delete_cmd_prefix": "del ",
     "library": "var_list.py",
     "varRefreshCmd": "print(var_dic_list())"
    },
    "r": {
     "delete_cmd_postfix": ") ",
     "delete_cmd_prefix": "rm(",
     "library": "var_list.r",
     "varRefreshCmd": "cat(var_dic_list()) "
    }
   },
   "types_to_exclude": [
    "module",
    "function",
    "builtin_function_or_method",
    "instance",
    "_Feature"
   ],
   "window_display": false
  }
 },
 "nbformat": 4,
 "nbformat_minor": 5
}
